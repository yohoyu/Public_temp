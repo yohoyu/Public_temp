{
  "nbformat": 4,
  "nbformat_minor": 0,
  "metadata": {
    "colab": {
      "private_outputs": true,
      "provenance": [],
      "mount_file_id": "1uFMYzBKeSZgTm2YPkS3IyBe0-aC3lKwA",
      "authorship_tag": "ABX9TyNcBLDrImv1jB7C5IEqlgbW",
      "include_colab_link": true
    },
    "kernelspec": {
      "name": "python3",
      "display_name": "Python 3"
    },
    "language_info": {
      "name": "python"
    }
  },
  "cells": [
    {
      "cell_type": "markdown",
      "metadata": {
        "id": "view-in-github",
        "colab_type": "text"
      },
      "source": [
        "<a href=\"https://colab.research.google.com/github/yohoyu/Public_temp/blob/main/test_html_ireport.ipynb\" target=\"_parent\"><img src=\"https://colab.research.google.com/assets/colab-badge.svg\" alt=\"Open In Colab\"/></a>"
      ]
    },
    {
      "cell_type": "code",
      "source": [
        "import ipywidgets as widgets\n",
        "from IPython.display import display, clear_output\n",
        "import plotly.graph_objects as go\n",
        "import pandas as pd\n",
        "import os\n",
        "import plotly.offline as pyo  # Import plotly offline\n",
        "\n",
        "pyo.init_notebook_mode(connected=False) # Initialize Plotly offline\n",
        "\n",
        "# Initialize a list to store data\n",
        "data_list = []\n",
        "\n",
        "# Create input widget\n",
        "text_input = widgets.Text(description=\"Enter some text:\")\n",
        "display(text_input)\n",
        "\n",
        "# Create a save button\n",
        "save_button = widgets.Button(description=\"Save to Excel\")\n",
        "display(save_button)\n",
        "\n",
        "# Create output widget for the table and chart\n",
        "output_area = widgets.Output()\n",
        "display(output_area)\n",
        "\n",
        "def create_table_and_chart():\n",
        "    global data_list\n",
        "    with output_area:\n",
        "        clear_output(wait=True)  # Clear previous output\n",
        "        df = pd.DataFrame(data_list)\n",
        "        if not df.empty:\n",
        "            df.index = [i + 1 for i in range(len(df))] # Modifies the index to start at 1\n",
        "            display(df)\n",
        "            fig = go.Figure(data=[go.Bar(x=df['Input'], y=df['Length'])])\n",
        "            fig.update_layout(title='Length of Input Text')\n",
        "            fig.show()\n",
        "\n",
        "\n",
        "def handle_input(change):\n",
        "    global data_list\n",
        "    text = change.value\n",
        "    data_list.append({'Input': text, 'Length': len(text)})\n",
        "    create_table_and_chart()\n",
        "\n",
        "def save_to_excel(button):\n",
        "    global data_list\n",
        "    df = pd.DataFrame(data_list)\n",
        "    df.to_excel('test_input.xlsx', index=False)\n",
        "    print(\"Data saved to test_input.xlsx\")\n",
        "\n",
        "save_button.on_click(save_to_excel)\n",
        "text_input.on_submit(handle_input)"
      ],
      "metadata": {
        "id": "azPHIRFqg_kb"
      },
      "execution_count": null,
      "outputs": []
    }
  ]
}